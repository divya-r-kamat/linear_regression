{
 "cells": [
  {
   "cell_type": "markdown",
   "metadata": {},
   "source": [
    "### Sklearn Linear Regression Model"
   ]
  },
  {
   "cell_type": "code",
   "execution_count": 15,
   "metadata": {
    "collapsed": true
   },
   "outputs": [],
   "source": [
    "import numpy as np\n",
    "import pandas as pd\n",
    "\n",
    "import scipy.stats as stats\n",
    "\n",
    "import matplotlib.pyplot as plt\n",
    "import seaborn as sns\n",
    "%matplotlib inline"
   ]
  },
  {
   "cell_type": "code",
   "execution_count": 16,
   "metadata": {},
   "outputs": [],
   "source": [
    "\n",
    "df = pd.read_csv(r\"C:\\Users\\divyakamat\\python_git_repositories\\linear_regression\\Milage Prediction\\dataset\\Car-mpg-processed.csv\")"
   ]
  },
  {
   "cell_type": "code",
   "execution_count": 17,
   "metadata": {},
   "outputs": [
    {
     "name": "stdout",
     "output_type": "stream",
     "text": [
      "\u001b[1mDisplay first few rows of the data frame:\u001b[0m\n",
      "    mpg  cylinders  displacement  horsepower  weight  acceleration  \\\n",
      "0  18.0          8         307.0       130.0    3504          12.0   \n",
      "1  15.0          8         350.0       165.0    3693          11.5   \n",
      "2  18.0          8         318.0       150.0    3436          11.0   \n",
      "\n",
      "   model_year  car_type  origin_america  origin_asia  origin_europe  \n",
      "0          70         0               1            0              0  \n",
      "1          70         0               1            0              0  \n",
      "2          70         0               1            0              0  \n",
      "\u001b[1m\n",
      "Display the shape (columns and rows) of the dataset:\u001b[0m\n",
      "\tcolumns : 398\n",
      "\trows : 11\n",
      "\u001b[1m\n",
      "Information about the dataset:\u001b[0m\n",
      "<class 'pandas.core.frame.DataFrame'>\n",
      "RangeIndex: 398 entries, 0 to 397\n",
      "Data columns (total 11 columns):\n",
      "mpg               398 non-null float64\n",
      "cylinders         398 non-null int64\n",
      "displacement      398 non-null float64\n",
      "horsepower        398 non-null float64\n",
      "weight            398 non-null int64\n",
      "acceleration      398 non-null float64\n",
      "model_year        398 non-null int64\n",
      "car_type          398 non-null int64\n",
      "origin_america    398 non-null int64\n",
      "origin_asia       398 non-null int64\n",
      "origin_europe     398 non-null int64\n",
      "dtypes: float64(4), int64(7)\n",
      "memory usage: 34.3 KB\n",
      "\u001b[1m\n",
      "Details on Numerical and Categorical features within dataset:\n",
      "\u001b[0m\n",
      "Numeric Columns: ['mpg', 'cylinders', 'displacement', 'horsepower', 'weight', 'acceleration', 'model_year', 'car_type', 'origin_america', 'origin_asia', 'origin_europe']\n",
      "Categorical Columns: []\n",
      "\u001b[1m\n",
      "Print any null values within dataset:\n",
      "\u001b[0m\n"
     ]
    }
   ],
   "source": [
    "def intial_analysis(dataframe):\n",
    "    \n",
    "    # Enclosing the string within '\\033[1m' and '\\033[0m', displays the text in bold\n",
    "    print ('\\033[1m' + \"Display first few rows of the data frame:\"+'\\033[0m')\n",
    "    print(dataframe.head(3))\n",
    "    \n",
    "    print('\\033[1m' + \"\\nDisplay the shape (columns and rows) of the dataset:\" +'\\033[0m' )\n",
    "    print(\"\\tcolumns : {}\\n\\trows : {}\".format(dataframe.shape[0],dataframe.shape[1]))\n",
    "    \n",
    "    print('\\033[1m' + \"\\nInformation about the dataset:\" +'\\033[0m')\n",
    "    dataframe.info()\n",
    "    \n",
    "    print('\\033[1m' + \"\\nDetails on Numerical and Categorical features within dataset:\\n\" + '\\033[0m')\n",
    "    #list the number of Numerical Features in our dataset.\n",
    "    numerical_feature_columns = list(df._get_numeric_data().columns)\n",
    "    print(\"Numeric Columns:\",numerical_feature_columns)\n",
    "    \n",
    "    #let's find out the number of Categorical Features in our dataset.\n",
    "    categorical_feature_columns = list(set(df.columns) - set(df._get_numeric_data().columns))\n",
    "    print(\"Categorical Columns:\",categorical_feature_columns)\n",
    "    \n",
    "    print('\\033[1m' + \"\\nPrint any null values within dataset:\\n\" + '\\033[0m')\n",
    "    labels = []\n",
    "    values = []\n",
    "    for col in dataframe.columns:\n",
    "        labels.append(col)\n",
    "        values.append(dataframe[col].isnull().sum())\n",
    "        if values[-1]!=0:\n",
    "            print(col, values[-1])\n",
    "\n",
    "intial_analysis(df)  "
   ]
  },
  {
   "cell_type": "markdown",
   "metadata": {},
   "source": [
    "### Model Creation"
   ]
  },
  {
   "cell_type": "code",
   "execution_count": 18,
   "metadata": {},
   "outputs": [],
   "source": [
    "df_train = df.copy()\n",
    "# Copy all the predictor variables into X dataframe. Since 'mpg' is dependent variable drop it\n",
    "X = df_train.drop('mpg', axis=1)\n",
    "\n",
    "# Copy the 'mpg' column alone into the y dataframe. This is the dependent variable\n",
    "y = df_train[['mpg']]\n"
   ]
  },
  {
   "cell_type": "code",
   "execution_count": 19,
   "metadata": {
    "collapsed": true
   },
   "outputs": [],
   "source": [
    "#Let us break the X and y dataframes into training set and test set. For this we will use\n",
    "#Sklearn package's data splitting function which is based on random function\n",
    "\n",
    "from sklearn.model_selection import train_test_split\n",
    "\n",
    "# Split X and y into training and test set in 75:25 ratio\n",
    "\n",
    "X_train, X_test, y_train, y_test = train_test_split(X, y, test_size=0.30, random_state=1)"
   ]
  },
  {
   "cell_type": "code",
   "execution_count": 20,
   "metadata": {},
   "outputs": [
    {
     "data": {
      "text/plain": [
       "LinearRegression(copy_X=True, fit_intercept=True, n_jobs=1, normalize=False)"
      ]
     },
     "execution_count": 20,
     "metadata": {},
     "output_type": "execute_result"
    }
   ],
   "source": [
    "# Import Linear Regression machine learning library\n",
    "from sklearn.linear_model import LinearRegression\n",
    "# invoke the LinearRegression function and find the bestfit model on training data\n",
    "\n",
    "regression_model = LinearRegression()\n",
    "regression_model.fit(X_train, y_train)\n"
   ]
  },
  {
   "cell_type": "code",
   "execution_count": 21,
   "metadata": {},
   "outputs": [
    {
     "name": "stdout",
     "output_type": "stream",
     "text": [
      "The coefficient for cylinders is 1.4750732919168072\n",
      "The coefficient for displacement is 0.024349322002431513\n",
      "The coefficient for horsepower is -0.046861910393252465\n",
      "The coefficient for weight is -0.0065641632962784545\n",
      "The coefficient for acceleration is 0.041702279188102584\n",
      "The coefficient for model_year is 0.7938975478842015\n",
      "The coefficient for car_type is 5.966597439861032\n",
      "The coefficient for origin_america is -1.4243481095472323\n",
      "The coefficient for origin_asia is 0.6521119249598665\n",
      "The coefficient for origin_europe is 0.7722361845873491\n",
      "\n",
      "The intercept for our model is -28.235395568497534\n"
     ]
    }
   ],
   "source": [
    "# Let us explore the coefficients for each of the independent attributes\n",
    "\n",
    "for idx, col_name in enumerate(X_train.columns):\n",
    "    print(\"The coefficient for {} is {}\".format(col_name, regression_model.coef_[0][idx]))\n",
    "    \n",
    "# Let us check the intercept for the model\n",
    "\n",
    "intercept = regression_model.intercept_[0]\n",
    "\n",
    "print(\"\\nThe intercept for our model is {}\".format(intercept))"
   ]
  },
  {
   "cell_type": "markdown",
   "metadata": {
    "collapsed": true
   },
   "source": [
    "#we can write our linear model as:\n",
    "#Y=−28.23+1.47×X1+0.03×X2–0.02×X3–0.01×X4+0.12×X5+0.85×X6–1.90×X7+0.74×X8+1.16×X9"
   ]
  },
  {
   "cell_type": "code",
   "execution_count": 22,
   "metadata": {},
   "outputs": [
    {
     "data": {
      "text/plain": [
       "0.8513421387780064"
      ]
     },
     "execution_count": 22,
     "metadata": {},
     "output_type": "execute_result"
    }
   ],
   "source": [
    "# Model score - R2 or coeff of determinant\n",
    "# R^2=1–RSS / TSS\n",
    "\n",
    "regression_model.score(X_test, y_test)"
   ]
  }
 ],
 "metadata": {
  "anaconda-cloud": {},
  "kernelspec": {
   "display_name": "Python 3",
   "language": "python",
   "name": "python3"
  },
  "language_info": {
   "codemirror_mode": {
    "name": "ipython",
    "version": 3
   },
   "file_extension": ".py",
   "mimetype": "text/x-python",
   "name": "python",
   "nbconvert_exporter": "python",
   "pygments_lexer": "ipython3",
   "version": "3.6.1"
  }
 },
 "nbformat": 4,
 "nbformat_minor": 2
}
